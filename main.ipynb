{
 "cells": [
  {
   "cell_type": "markdown",
   "metadata": {},
   "source": [
    "Imports"
   ]
  },
  {
   "cell_type": "code",
   "execution_count": 1,
   "metadata": {},
   "outputs": [],
   "source": [
    "import pandas as pd"
   ]
  },
  {
   "cell_type": "markdown",
   "metadata": {},
   "source": [
    "Loading The Dataset"
   ]
  },
  {
   "cell_type": "code",
   "execution_count": 6,
   "metadata": {},
   "outputs": [
    {
     "name": "stdout",
     "output_type": "stream",
     "text": [
      "Dataset Shape: (23573, 155)\n",
      "Column Names: Index(['study_id', 'eureka_id', 'day', 'act_in_vehicle_ep_0',\n",
      "       'act_in_vehicle_ep_1', 'act_in_vehicle_ep_2', 'act_in_vehicle_ep_3',\n",
      "       'act_in_vehicle_ep_4', 'act_on_bike_ep_0', 'act_on_bike_ep_1',\n",
      "       ...\n",
      "       'unlock_duration_ep_0', 'unlock_duration_ep_1', 'unlock_duration_ep_2',\n",
      "       'unlock_duration_ep_3', 'unlock_duration_ep_4', 'unlock_num_ep_0',\n",
      "       'unlock_num_ep_1', 'unlock_num_ep_2', 'unlock_num_ep_3',\n",
      "       'unlock_num_ep_4'],\n",
      "      dtype='object', length=155)\n",
      "   study_id eureka_id       day  act_in_vehicle_ep_0  act_in_vehicle_ep_1  \\\n",
      "0        -1      u004  20150122                    0                    0   \n",
      "1        -1      u004  20150123                    0                    0   \n",
      "2        -1      u004  20150124                    0                    0   \n",
      "3        -1      u004  20150125                    0                    0   \n",
      "4        -1      u004  20150126                    0                    0   \n",
      "\n",
      "   act_in_vehicle_ep_2  act_in_vehicle_ep_3  act_in_vehicle_ep_4  \\\n",
      "0                    0                    0                    0   \n",
      "1                    0                    0                    0   \n",
      "2                    0                    0                    0   \n",
      "3                    0                    0                    0   \n",
      "4                    0                    0                    0   \n",
      "\n",
      "   act_on_bike_ep_0  act_on_bike_ep_1  ...  unlock_duration_ep_0  \\\n",
      "0                 0                 0  ...                   0.0   \n",
      "1                 0                 0  ...                   0.0   \n",
      "2                 0                 0  ...                   0.0   \n",
      "3                 0                 0  ...                   0.0   \n",
      "4                 0                 0  ...                   0.0   \n",
      "\n",
      "   unlock_duration_ep_1  unlock_duration_ep_2  unlock_duration_ep_3  \\\n",
      "0                   0.0                   0.0                   0.0   \n",
      "1                   0.0                   0.0                   0.0   \n",
      "2                   0.0                   0.0                   0.0   \n",
      "3                   0.0                   0.0                   0.0   \n",
      "4                   0.0                   0.0                   0.0   \n",
      "\n",
      "   unlock_duration_ep_4  unlock_num_ep_0  unlock_num_ep_1  unlock_num_ep_2  \\\n",
      "0                   0.0                0                0                0   \n",
      "1                   0.0                0                0                0   \n",
      "2                   0.0                0                0                0   \n",
      "3                   0.0                0                0                0   \n",
      "4                   0.0                0                0                0   \n",
      "\n",
      "   unlock_num_ep_3  unlock_num_ep_4  \n",
      "0                0                0  \n",
      "1                0                0  \n",
      "2                0                0  \n",
      "3                0                0  \n",
      "4                0                0  \n",
      "\n",
      "[5 rows x 155 columns]\n"
     ]
    }
   ],
   "source": [
    "file_path = 'CrossCheck_Daily_Data.xlsx'  \n",
    "data = pd.read_excel(file_path)\n",
    "\n",
    "print(\"Dataset Shape:\", data.shape)\n",
    "print(\"Column Names:\", data.columns)\n",
    "print(data.head())"
   ]
  },
  {
   "cell_type": "markdown",
   "metadata": {},
   "source": [
    "Data Cleaning"
   ]
  },
  {
   "cell_type": "code",
   "execution_count": 12,
   "metadata": {},
   "outputs": [
    {
     "name": "stdout",
     "output_type": "stream",
     "text": [
      "Dropped 13 columns with only zero values.\n",
      "Remaining columns: Index(['study_id', 'day', 'act_in_vehicle_ep_0', 'act_in_vehicle_ep_1',\n",
      "       'act_in_vehicle_ep_2', 'act_in_vehicle_ep_3', 'act_in_vehicle_ep_4',\n",
      "       'act_on_bike_ep_0', 'act_on_bike_ep_1', 'act_on_bike_ep_2',\n",
      "       ...\n",
      "       'unlock_duration_ep_0', 'unlock_duration_ep_1', 'unlock_duration_ep_2',\n",
      "       'unlock_duration_ep_3', 'unlock_duration_ep_4', 'unlock_num_ep_0',\n",
      "       'unlock_num_ep_1', 'unlock_num_ep_2', 'unlock_num_ep_3',\n",
      "       'unlock_num_ep_4'],\n",
      "      dtype='object', length=154)\n"
     ]
    }
   ],
   "source": [
    "#get all coulmns that have all data = zero and drop it \n",
    "nullCoulmns=data.columns[(data==0).all()] \n",
    "dataCleaned=data.drop(columns=nullCoulmns)\n",
    "\n",
    "# eureka_id dropped because its redundant and duplicates the study id\n",
    "dataCleaned=data.drop(columns=['eureka_id'])\n",
    "\n",
    "print(f\"Dropped {len(nullCoulmns)} columns with only zero values.\")\n",
    "print(\"Remaining columns:\", dataCleaned.columns)"
   ]
  }
 ],
 "metadata": {
  "kernelspec": {
   "display_name": "Python 3",
   "language": "python",
   "name": "python3"
  },
  "language_info": {
   "codemirror_mode": {
    "name": "ipython",
    "version": 3
   },
   "file_extension": ".py",
   "mimetype": "text/x-python",
   "name": "python",
   "nbconvert_exporter": "python",
   "pygments_lexer": "ipython3",
   "version": "3.13.0"
  }
 },
 "nbformat": 4,
 "nbformat_minor": 2
}
