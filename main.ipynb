{
 "cells": [
  {
   "cell_type": "markdown",
   "metadata": {},
   "source": [
    "Imports"
   ]
  },
  {
   "cell_type": "code",
   "execution_count": 198,
   "metadata": {},
   "outputs": [],
   "source": [
    "import pandas as pd\n",
    "import seaborn as sns\n",
    "import matplotlib.pyplot as plt\n",
    "import numpy as np"
   ]
  },
  {
   "cell_type": "markdown",
   "metadata": {},
   "source": [
    "Loading The Dataset"
   ]
  },
  {
   "cell_type": "code",
   "execution_count": 199,
   "metadata": {},
   "outputs": [
    {
     "name": "stdout",
     "output_type": "stream",
     "text": [
      "Dataset Shape: (23573, 155)\n",
      "Column Names: Index(['study_id', 'eureka_id', 'day', 'act_in_vehicle_ep_0',\n",
      "       'act_in_vehicle_ep_1', 'act_in_vehicle_ep_2', 'act_in_vehicle_ep_3',\n",
      "       'act_in_vehicle_ep_4', 'act_on_bike_ep_0', 'act_on_bike_ep_1',\n",
      "       ...\n",
      "       'unlock_duration_ep_0', 'unlock_duration_ep_1', 'unlock_duration_ep_2',\n",
      "       'unlock_duration_ep_3', 'unlock_duration_ep_4', 'unlock_num_ep_0',\n",
      "       'unlock_num_ep_1', 'unlock_num_ep_2', 'unlock_num_ep_3',\n",
      "       'unlock_num_ep_4'],\n",
      "      dtype='object', length=155)\n",
      "   study_id eureka_id       day  act_in_vehicle_ep_0  act_in_vehicle_ep_1  \\\n",
      "0        -1      u004  20150122                    0                    0   \n",
      "1        -1      u004  20150123                    0                    0   \n",
      "2        -1      u004  20150124                    0                    0   \n",
      "3        -1      u004  20150125                    0                    0   \n",
      "4        -1      u004  20150126                    0                    0   \n",
      "\n",
      "   act_in_vehicle_ep_2  act_in_vehicle_ep_3  act_in_vehicle_ep_4  \\\n",
      "0                    0                    0                    0   \n",
      "1                    0                    0                    0   \n",
      "2                    0                    0                    0   \n",
      "3                    0                    0                    0   \n",
      "4                    0                    0                    0   \n",
      "\n",
      "   act_on_bike_ep_0  act_on_bike_ep_1  ...  unlock_duration_ep_0  \\\n",
      "0                 0                 0  ...                   0.0   \n",
      "1                 0                 0  ...                   0.0   \n",
      "2                 0                 0  ...                   0.0   \n",
      "3                 0                 0  ...                   0.0   \n",
      "4                 0                 0  ...                   0.0   \n",
      "\n",
      "   unlock_duration_ep_1  unlock_duration_ep_2  unlock_duration_ep_3  \\\n",
      "0                   0.0                   0.0                   0.0   \n",
      "1                   0.0                   0.0                   0.0   \n",
      "2                   0.0                   0.0                   0.0   \n",
      "3                   0.0                   0.0                   0.0   \n",
      "4                   0.0                   0.0                   0.0   \n",
      "\n",
      "   unlock_duration_ep_4  unlock_num_ep_0  unlock_num_ep_1  unlock_num_ep_2  \\\n",
      "0                   0.0                0                0                0   \n",
      "1                   0.0                0                0                0   \n",
      "2                   0.0                0                0                0   \n",
      "3                   0.0                0                0                0   \n",
      "4                   0.0                0                0                0   \n",
      "\n",
      "   unlock_num_ep_3  unlock_num_ep_4  \n",
      "0                0                0  \n",
      "1                0                0  \n",
      "2                0                0  \n",
      "3                0                0  \n",
      "4                0                0  \n",
      "\n",
      "[5 rows x 155 columns]\n"
     ]
    }
   ],
   "source": [
    "file_path = 'CrossCheck_Daily_Data.xlsx'  \n",
    "data = pd.read_excel(file_path)\n",
    "\n",
    "print(\"Dataset Shape:\", data.shape)\n",
    "print(\"Column Names:\", data.columns)\n",
    "print(data.head())"
   ]
  },
  {
   "cell_type": "markdown",
   "metadata": {},
   "source": [
    "Data Cleaning"
   ]
  },
  {
   "cell_type": "code",
   "execution_count": 200,
   "metadata": {},
   "outputs": [
    {
     "name": "stdout",
     "output_type": "stream",
     "text": [
      "Columns retained: 141\n"
     ]
    }
   ],
   "source": [
    "# Drop columns with more than 60% missing values\n",
    "missing_threshold = 0.6* len(data)\n",
    "data = data.loc[:, data.isnull().sum() <= missing_threshold]\n",
    "print(f\"Columns retained: {data.shape[1]}\")"
   ]
  },
  {
   "cell_type": "code",
   "execution_count": 201,
   "metadata": {},
   "outputs": [
    {
     "name": "stdout",
     "output_type": "stream",
     "text": [
      "Dropped 13 columns with only zero values.\n",
      "Columns retained: 127\n",
      "Remaining columns: Index(['study_id', 'day', 'act_in_vehicle_ep_0', 'act_in_vehicle_ep_1',\n",
      "       'act_in_vehicle_ep_2', 'act_in_vehicle_ep_3', 'act_in_vehicle_ep_4',\n",
      "       'act_on_bike_ep_0', 'act_on_bike_ep_1', 'act_on_bike_ep_2',\n",
      "       ...\n",
      "       'unlock_duration_ep_0', 'unlock_duration_ep_1', 'unlock_duration_ep_2',\n",
      "       'unlock_duration_ep_3', 'unlock_duration_ep_4', 'unlock_num_ep_0',\n",
      "       'unlock_num_ep_1', 'unlock_num_ep_2', 'unlock_num_ep_3',\n",
      "       'unlock_num_ep_4'],\n",
      "      dtype='object', length=127)\n"
     ]
    }
   ],
   "source": [
    "#get all coulmns that have all data = zero and drop it \n",
    "nullCoulmns=data.columns[(data==0).all()]\n",
    "data=data.drop(columns=nullCoulmns)\n",
    "\n",
    "# eureka_id dropped because its redundant and duplicates the study id\n",
    "data=data.drop(columns=['eureka_id'])\n",
    "\n",
    "print(f\"Dropped {len(nullCoulmns)} columns with only zero values.\")\n",
    "print(f\"Columns retained: {data.shape[1]}\")\n",
    "print(\"Remaining columns:\", data.columns)\n",
    "\n"
   ]
  },
  {
   "cell_type": "markdown",
   "metadata": {},
   "source": [
    "OUtliers Detection"
   ]
  },
  {
   "cell_type": "code",
   "execution_count": 202,
   "metadata": {},
   "outputs": [
    {
     "name": "stdout",
     "output_type": "stream",
     "text": [
      "Column 'study_id' has 0 outliers.\n",
      "Column 'day' has 22 outliers.\n",
      "Column 'act_in_vehicle_ep_0' has 2655 outliers.\n",
      "Column 'act_in_vehicle_ep_1' has 3419 outliers.\n",
      "Column 'act_in_vehicle_ep_2' has 4990 outliers.\n",
      "Column 'act_in_vehicle_ep_3' has 3648 outliers.\n",
      "Column 'act_in_vehicle_ep_4' has 4682 outliers.\n",
      "Column 'act_on_bike_ep_0' has 4045 outliers.\n",
      "Column 'act_on_bike_ep_1' has 958 outliers.\n",
      "Column 'act_on_bike_ep_2' has 3234 outliers.\n",
      "Column 'act_on_bike_ep_3' has 5306 outliers.\n",
      "Column 'act_on_bike_ep_4' has 3499 outliers.\n",
      "Column 'act_on_foot_ep_0' has 2984 outliers.\n",
      "Column 'act_on_foot_ep_1' has 2256 outliers.\n",
      "Column 'act_on_foot_ep_2' has 5370 outliers.\n",
      "Column 'act_on_foot_ep_3' has 3786 outliers.\n",
      "Column 'act_on_foot_ep_4' has 5129 outliers.\n",
      "Column 'act_still_ep_0' has 1367 outliers.\n",
      "Column 'act_still_ep_1' has 5002 outliers.\n",
      "Column 'act_still_ep_2' has 3478 outliers.\n",
      "Column 'act_still_ep_3' has 1484 outliers.\n",
      "Column 'act_still_ep_4' has 2931 outliers.\n",
      "Column 'act_tilting_ep_0' has 1504 outliers.\n",
      "Column 'act_tilting_ep_1' has 4677 outliers.\n",
      "Column 'act_tilting_ep_2' has 3769 outliers.\n",
      "Column 'act_tilting_ep_3' has 2015 outliers.\n",
      "Column 'act_tilting_ep_4' has 3210 outliers.\n",
      "Column 'act_unknown_ep_0' has 2813 outliers.\n",
      "Column 'act_unknown_ep_1' has 4229 outliers.\n",
      "Column 'act_unknown_ep_2' has 4147 outliers.\n",
      "Column 'act_unknown_ep_3' has 3026 outliers.\n",
      "Column 'act_unknown_ep_4' has 4036 outliers.\n",
      "Column 'audio_amp_mean_ep_0' has 447 outliers.\n",
      "Column 'audio_amp_mean_ep_1' has 1999 outliers.\n",
      "Column 'audio_amp_mean_ep_2' has 729 outliers.\n",
      "Column 'audio_amp_mean_ep_3' has 350 outliers.\n",
      "Column 'audio_amp_mean_ep_4' has 874 outliers.\n",
      "Column 'audio_amp_std_ep_0' has 40 outliers.\n",
      "Column 'audio_amp_std_ep_1' has 2321 outliers.\n",
      "Column 'audio_amp_std_ep_2' has 47 outliers.\n",
      "Column 'audio_amp_std_ep_3' has 39 outliers.\n",
      "Column 'audio_amp_std_ep_4' has 111 outliers.\n",
      "Column 'audio_convo_duration_ep_0' has 1149 outliers.\n",
      "Column 'audio_convo_duration_ep_1' has 5096 outliers.\n",
      "Column 'audio_convo_duration_ep_2' has 3367 outliers.\n",
      "Column 'audio_convo_duration_ep_3' has 1425 outliers.\n",
      "Column 'audio_convo_duration_ep_4' has 2541 outliers.\n",
      "Column 'audio_convo_num_ep_0' has 1255 outliers.\n",
      "Column 'audio_convo_num_ep_1' has 2982 outliers.\n",
      "Column 'audio_convo_num_ep_2' has 2154 outliers.\n",
      "Column 'audio_convo_num_ep_3' has 1190 outliers.\n",
      "Column 'audio_convo_num_ep_4' has 2120 outliers.\n",
      "Column 'audio_voice_ep_0' has 299 outliers.\n",
      "Column 'audio_voice_ep_1' has 4939 outliers.\n",
      "Column 'audio_voice_ep_2' has 2028 outliers.\n",
      "Column 'audio_voice_ep_3' has 321 outliers.\n",
      "Column 'audio_voice_ep_4' has 1158 outliers.\n",
      "Column 'call_in_duration_ep_0' has 4475 outliers.\n",
      "Column 'call_in_duration_ep_1' has 657 outliers.\n",
      "Column 'call_in_duration_ep_2' has 3140 outliers.\n",
      "Column 'call_in_duration_ep_3' has 5305 outliers.\n",
      "Column 'call_in_duration_ep_4' has 3757 outliers.\n",
      "Column 'call_in_num_ep_0' has 3529 outliers.\n",
      "Column 'call_in_num_ep_1' has 657 outliers.\n",
      "Column 'call_in_num_ep_2' has 3140 outliers.\n",
      "Column 'call_in_num_ep_3' has 5305 outliers.\n",
      "Column 'call_in_num_ep_4' has 3757 outliers.\n",
      "Column 'call_miss_num_ep_0' has 2 outliers.\n",
      "Column 'call_miss_num_ep_4' has 2 outliers.\n",
      "Column 'call_out_duration_ep_0' has 3712 outliers.\n",
      "Column 'call_out_duration_ep_1' has 1489 outliers.\n",
      "Column 'call_out_duration_ep_2' has 5205 outliers.\n",
      "Column 'call_out_duration_ep_3' has 4251 outliers.\n",
      "Column 'call_out_duration_ep_4' has 5785 outliers.\n",
      "Column 'call_out_num_ep_0' has 2773 outliers.\n",
      "Column 'call_out_num_ep_1' has 1489 outliers.\n",
      "Column 'call_out_num_ep_2' has 5205 outliers.\n",
      "Column 'call_out_num_ep_3' has 4558 outliers.\n",
      "Column 'call_out_num_ep_4' has 5785 outliers.\n",
      "Column 'light_mean_ep_0' has 2294 outliers.\n",
      "Column 'light_mean_ep_1' has 2791 outliers.\n",
      "Column 'light_mean_ep_2' has 2406 outliers.\n",
      "Column 'light_mean_ep_3' has 2320 outliers.\n",
      "Column 'light_mean_ep_4' has 1893 outliers.\n",
      "Column 'light_std_ep_0' has 3525 outliers.\n",
      "Column 'light_std_ep_1' has 3344 outliers.\n",
      "Column 'light_std_ep_2' has 3398 outliers.\n",
      "Column 'light_std_ep_3' has 3418 outliers.\n",
      "Column 'light_std_ep_4' has 2828 outliers.\n",
      "Column 'loc_dist_ep_0' has 3796 outliers.\n",
      "Column 'loc_dist_ep_1' has 3589 outliers.\n",
      "Column 'loc_dist_ep_2' has 5146 outliers.\n",
      "Column 'loc_dist_ep_3' has 4467 outliers.\n",
      "Column 'loc_dist_ep_4' has 4870 outliers.\n",
      "Column 'loc_visit_num_ep_0' has 106 outliers.\n",
      "Column 'loc_visit_num_ep_1' has 119 outliers.\n",
      "Column 'loc_visit_num_ep_2' has 787 outliers.\n",
      "Column 'loc_visit_num_ep_3' has 1493 outliers.\n",
      "Column 'loc_visit_num_ep_4' has 519 outliers.\n",
      "Column 'quality_activity' has 0 outliers.\n",
      "Column 'quality_audio' has 0 outliers.\n",
      "Column 'quality_gps_on' has 0 outliers.\n",
      "Column 'quality_light' has 0 outliers.\n",
      "Column 'quality_loc' has 0 outliers.\n",
      "Column 'sleep_duration' has 0 outliers.\n",
      "Column 'sleep_end' has 0 outliers.\n",
      "Column 'sleep_start' has 994 outliers.\n",
      "Column 'sms_in_num_ep_0' has 4615 outliers.\n",
      "Column 'sms_in_num_ep_1' has 1147 outliers.\n",
      "Column 'sms_in_num_ep_2' has 3475 outliers.\n",
      "Column 'sms_in_num_ep_3' has 4890 outliers.\n",
      "Column 'sms_in_num_ep_4' has 4142 outliers.\n",
      "Column 'sms_out_num_ep_0' has 4496 outliers.\n",
      "Column 'sms_out_num_ep_1' has 1090 outliers.\n",
      "Column 'sms_out_num_ep_2' has 3004 outliers.\n",
      "Column 'sms_out_num_ep_3' has 4298 outliers.\n",
      "Column 'sms_out_num_ep_4' has 3854 outliers.\n",
      "Column 'unlock_duration_ep_0' has 3044 outliers.\n",
      "Column 'unlock_duration_ep_1' has 4889 outliers.\n",
      "Column 'unlock_duration_ep_2' has 3805 outliers.\n",
      "Column 'unlock_duration_ep_3' has 3155 outliers.\n",
      "Column 'unlock_duration_ep_4' has 3611 outliers.\n",
      "Column 'unlock_num_ep_0' has 1371 outliers.\n",
      "Column 'unlock_num_ep_1' has 3269 outliers.\n",
      "Column 'unlock_num_ep_2' has 2177 outliers.\n",
      "Column 'unlock_num_ep_3' has 1690 outliers.\n",
      "Column 'unlock_num_ep_4' has 2279 outliers.\n"
     ]
    },
    {
     "data": {
      "image/png": "[encoded data removed]",
      "text/plain": [
       "<Figure size 1500x500 with 1 Axes>"
      ]
     },
     "metadata": {},
     "output_type": "display_data"
    }
   ],
   "source": [
    "numerical_cols = data.select_dtypes(include=['int64', 'float64']).columns\n",
    "\n",
    "outliers = {}\n",
    "#using IQR for detcting outliers \n",
    "for col in numerical_cols:\n",
    "    Q1 = data[col].quantile(0.25)\n",
    "    Q3 = data[col].quantile(0.75)\n",
    "    IQR = Q3 - Q1\n",
    "    lower_bound = Q1 - 1.5 * IQR\n",
    "    upper_bound = Q3 + 1.5 * IQR\n",
    "\n",
    "    outliers[col] = data[(data[col] < lower_bound) | (data[col] > upper_bound)][col].count()\n",
    "\n",
    "\n",
    "for col, count in outliers.items():\n",
    "    print(f\"Column '{col}' has {count} outliers.\")\n",
    "\n",
    "\n",
    "subset = numerical_cols[:10] \n",
    "data[subset].boxplot(figsize=(15, 5), rot=90)\n",
    "plt.title(\"Boxplot of Selected Numerical Columns\")\n",
    "plt.show()"
   ]
  },
  {
   "cell_type": "code",
   "execution_count": 203,
   "metadata": {},
   "outputs": [
    {
     "name": "stdout",
     "output_type": "stream",
     "text": [
      "All missing values have been filled. Total missing values remaining: 0\n"
     ]
    }
   ],
   "source": [
    "#since there is alot of ouliers detected we will use the median to fill out the missing values\n",
    "data = data.fillna(data.median(numeric_only=True))\n",
    "\n",
    "missing_values = data.isnull().sum().sum()\n",
    "\n",
    "print(f\"All missing values have been filled. Total missing values remaining: {missing_values}\")"
   ]
  },
  {
   "cell_type": "markdown",
   "metadata": {},
   "source": [
    "Data Aggregation"
   ]
  },
  {
   "cell_type": "code",
   "execution_count": 204,
   "metadata": {},
   "outputs": [],
   "source": [
    "#Aggregate the eps to make it one full day\n",
    "\n",
    "new_columns = []\n",
    "processed_base_columns = set()  \n",
    "columns_to_drop = []  \n",
    "\n",
    "\n",
    "epochs = ['ep_0', 'ep_1', 'ep_2', 'ep_3']  #only taking the first four eps as they indicates the whole day\n",
    "\n",
    "\n",
    "for col in numerical_cols:\n",
    "    if any(epoch in col for epoch in epochs):  # to see if the coulmn has ep_ in it \n",
    "        \n",
    "        #removing ep for the bas coulmn name\n",
    "        epoch_num = [epoch for epoch in epochs if epoch in col][0]\n",
    "        base_col_name = col.replace(f'_{epoch_num}', '') \n",
    "\n",
    "        # Check if the coulmn has been aggregated before and not aggregate ep_4 \n",
    "        if base_col_name not in processed_base_columns:\n",
    "            columns_to_sum = [col for col in data.columns if base_col_name in col and 'ep_4' not in col]\n",
    "            aggregated_col = data[columns_to_sum].sum(axis=1)\n",
    "            new_columns.append(aggregated_col.rename(base_col_name + '_sum'))\n",
    "            \n",
    "\n",
    "            columns_to_drop.extend([col for col in columns_to_sum if 'ep_4' not in col]) \n",
    "\n",
    "            # Mark the base column as processed\n",
    "            processed_base_columns.add(base_col_name)\n",
    "\n",
    "# add the new coulmns to the data \n",
    "if new_columns:\n",
    "    data = pd.concat([data] + new_columns, axis=1)\n",
    "\n",
    "#drop the original coulmns \n",
    "data.drop(columns=columns_to_drop, inplace=True)\n"
   ]
  },
  {
   "cell_type": "code",
   "execution_count": null,
   "metadata": {},
   "outputs": [
    {
     "name": "stdout",
     "output_type": "stream",
     "text": [
      "30-day behavioral aggregated data saved to 'Processed_30_day_Behavioral_Aggregated_Data.csv'.\n"
     ]
    }
   ],
   "source": [
    "#Aggregate behaviroal featuers and add 30-day featuer \n",
    "data['day'] = pd.to_datetime(data['day'], format='%Y%m%d')\n",
    "\n",
    "# Sort the data by day (if not already sorted)\n",
    "data = data.sort_values('day')\n",
    "\n",
    "# Define the behavioral features and their corresponding columns\n",
    "behavioral_feature_columns = {\n",
    "    'Conversation Duration': ['audio_convo_duration_sum', 'audio_convo_num_sum'],\n",
    "    'Phone Usage': ['sms_in_num_sum', 'sms_out_num_sum', 'call_in_duration_sum', 'call_out_duration_sum', 'unlock_duration_sum'],\n",
    "    'Activity Level': ['act_in_vehicle_sum', 'act_on_bike_sum', 'act_on_foot_sum', 'act_still_sum', 'act_tilting_sum', 'act_unknown_sum'],\n",
    "    'Mobility': ['loc_dist_sum', 'loc_visit_num_sum'],\n",
    "    'Ambient Acoustic Environment': ['audio_amp_mean_sum', 'audio_amp_std_sum'],\n",
    "    'Stationary Time': ['light_mean_sum', 'light_std_sum']\n",
    "}\n",
    "\n",
    "# Define the rolling window size (30 days)\n",
    "rolling_window_size = 30\n",
    "\n",
    "# Loop through the behavioral feature columns and apply 30-day aggregation\n",
    "for feature, columns in behavioral_feature_columns.items():\n",
    "    for col in columns:\n",
    "        if col in data.columns:\n",
    "            # Apply rolling sum for 30 days and create a new column\n",
    "            data[f'{col}_30_day_sum'] = data[col].rolling(window=rolling_window_size).sum()\n",
    "\n",
    "# Save the new aggregated data with the 30-day features (without removing the originals)\n",
    "data.to_csv('Processed_30_day_Behavioral_Aggregated_Data.csv', index=False)\n",
    "print(\"30-day behavioral aggregated data saved to 'Processed_30_day_Behavioral_Aggregated_Data.csv'.\")\n"
   ]
  }
 ],
 "metadata": {
  "kernelspec": {
   "display_name": "Python 3",
   "language": "python",
   "name": "python3"
  },
  "language_info": {
   "codemirror_mode": {
    "name": "ipython",
    "version": 3
   },
   "file_extension": ".py",
   "mimetype": "text/x-python",
   "name": "python",
   "nbconvert_exporter": "python",
   "pygments_lexer": "ipython3",
   "version": "3.13.0"
  }
 },
 "nbformat": 4,
 "nbformat_minor": 2
}
